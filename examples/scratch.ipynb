{
 "cells": [
  {
   "cell_type": "code",
   "execution_count": 1,
   "id": "7478f697",
   "metadata": {
    "pycharm": {
     "name": "#%%\n"
    }
   },
   "outputs": [
    {
     "ename": "ModuleNotFoundError",
     "evalue": "No module named 'windfreak'",
     "output_type": "error",
     "traceback": [
      "\u001B[0;31m---------------------------------------------------------------------------\u001B[0m",
      "\u001B[0;31mModuleNotFoundError\u001B[0m                       Traceback (most recent call last)",
      "Input \u001B[0;32mIn [1]\u001B[0m, in \u001B[0;36m<cell line: 4>\u001B[0;34m()\u001B[0m\n\u001B[1;32m      2\u001B[0m \u001B[38;5;28;01mimport\u001B[39;00m \u001B[38;5;21;01mscipy\u001B[39;00m\n\u001B[1;32m      3\u001B[0m \u001B[38;5;28;01mfrom\u001B[39;00m \u001B[38;5;21;01mmatplotlib\u001B[39;00m \u001B[38;5;28;01mimport\u001B[39;00m pylab \u001B[38;5;28;01mas\u001B[39;00m plt\n\u001B[0;32m----> 4\u001B[0m \u001B[38;5;28;01mfrom\u001B[39;00m \u001B[38;5;21;01mwindfreak\u001B[39;00m \u001B[38;5;28;01mimport\u001B[39;00m SynthHD\n\u001B[1;32m      5\u001B[0m get_ipython()\u001B[38;5;241m.\u001B[39mrun_line_magic(\u001B[38;5;124m'\u001B[39m\u001B[38;5;124mmatplotlib\u001B[39m\u001B[38;5;124m'\u001B[39m, \u001B[38;5;124m'\u001B[39m\u001B[38;5;124minline\u001B[39m\u001B[38;5;124m'\u001B[39m)\n",
      "\u001B[0;31mModuleNotFoundError\u001B[0m: No module named 'windfreak'"
     ]
    }
   ],
   "source": [
    "import numpy as np\n",
    "import scipy\n",
    "from matplotlib import pylab as plt\n",
    "from windfreak import SynthHD\n",
    "%matplotlib inline"
   ]
  },
  {
   "cell_type": "code",
   "execution_count": 2,
   "id": "6c8eac34",
   "metadata": {
    "pycharm": {
     "name": "#%%\n"
    }
   },
   "outputs": [
    {
     "ename": "NameError",
     "evalue": "name 'SynthHD' is not defined",
     "output_type": "error",
     "traceback": [
      "\u001B[0;31m---------------------------------------------------------------------------\u001B[0m",
      "\u001B[0;31mNameError\u001B[0m                                 Traceback (most recent call last)",
      "Input \u001B[0;32mIn [2]\u001B[0m, in \u001B[0;36m<cell line: 1>\u001B[0;34m()\u001B[0m\n\u001B[0;32m----> 1\u001B[0m synth \u001B[38;5;241m=\u001B[39m \u001B[43mSynthHD\u001B[49m(\u001B[38;5;124m'\u001B[39m\u001B[38;5;124m/dev/cu.usbmodem206834A04E561\u001B[39m\u001B[38;5;124m'\u001B[39m)\n\u001B[1;32m      2\u001B[0m synth\u001B[38;5;241m.\u001B[39minit()\n",
      "\u001B[0;31mNameError\u001B[0m: name 'SynthHD' is not defined"
     ]
    }
   ],
   "source": [
    "synth = SynthHD('/dev/cu.usbmodem206834A04E561')\n",
    "synth.init()\n"
   ]
  },
  {
   "cell_type": "code",
   "execution_count": 9,
   "id": "7a55c751",
   "metadata": {
    "pycharm": {
     "name": "#%%\n"
    }
   },
   "outputs": [
    {
     "name": "stdout",
     "output_type": "stream",
     "text": [
      "SynthHD v2\n"
     ]
    }
   ],
   "source": [
    "print(synth.model)"
   ]
  },
  {
   "cell_type": "code",
   "execution_count": 11,
   "id": "a2b9633c",
   "metadata": {
    "pycharm": {
     "name": "#%%\n"
    }
   },
   "outputs": [],
   "source": [
    "# Set channel 0 power and frequency\n",
    "synth[0].power = -10.\n",
    "synth[0].frequency = 1000e6\n",
    "synth[1].power = -10.\n",
    "synth[1].frequency = 50e6\n",
    "\n",
    "\n",
    "\n",
    "# Enable channel 0\n",
    "synth[0].enable = True\n",
    "synth[1].enable = True"
   ]
  },
  {
   "cell_type": "code",
   "execution_count": null,
   "id": "9c746bd5",
   "metadata": {
    "pycharm": {
     "name": "#%%\n"
    }
   },
   "outputs": [],
   "source": []
  },
  {
   "cell_type": "code",
   "execution_count": 12,
   "id": "a18e9a8b",
   "metadata": {
    "pycharm": {
     "name": "#%%\n"
    }
   },
   "outputs": [
    {
     "name": "stdout",
     "output_type": "stream",
     "text": [
      "Lock status A= True, Lock status B=True\n"
     ]
    }
   ],
   "source": [
    "lock_status = synth[1].lock_status\n",
    "print(f\"Lock status A= {synth[0].lock_status}, Lock status B={synth[1].lock_status}\")"
   ]
  },
  {
   "cell_type": "code",
   "execution_count": null,
   "id": "1ab9dace",
   "metadata": {
    "pycharm": {
     "name": "#%%\n"
    }
   },
   "outputs": [],
   "source": [
    "synth.close()"
   ]
  }
 ],
 "metadata": {
  "kernelspec": {
   "display_name": "Python 3 (ipykernel)",
   "language": "python",
   "name": "python3"
  },
  "language_info": {
   "codemirror_mode": {
    "name": "ipython",
    "version": 3
   },
   "file_extension": ".py",
   "mimetype": "text/x-python",
   "name": "python",
   "nbconvert_exporter": "python",
   "pygments_lexer": "ipython3",
   "version": "3.8.10"
  }
 },
 "nbformat": 4,
 "nbformat_minor": 5
}